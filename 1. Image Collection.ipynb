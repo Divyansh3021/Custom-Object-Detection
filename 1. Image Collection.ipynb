{
 "cells": [
  {
   "cell_type": "markdown",
   "metadata": {},
   "source": [
    "# 1. Import Dependencies"
   ]
  },
  {
   "cell_type": "code",
   "execution_count": 1,
   "metadata": {},
   "outputs": [
    {
     "name": "stdout",
     "output_type": "stream",
     "text": [
      "Requirement already satisfied: opencv-python in d:\\youtube\\od\\tfodcourse\\tfod\\lib\\site-packages (4.5.1.48)\n",
      "Requirement already satisfied: numpy>=1.14.5 in d:\\youtube\\od\\tfodcourse\\tfod\\lib\\site-packages (from opencv-python) (1.20.2)\n"
     ]
    }
   ],
   "source": [
    "!pip install opencv-python"
   ]
  },
  {
   "cell_type": "code",
   "execution_count": 1,
   "metadata": {},
   "outputs": [],
   "source": [
    "# Import opencv\n",
    "import cv2 \n",
    "\n",
    "# Import uuid\n",
    "import uuid\n",
    "\n",
    "# Import Operating System\n",
    "import os\n",
    "\n",
    "# Import time\n",
    "import time"
   ]
  },
  {
   "cell_type": "markdown",
   "metadata": {},
   "source": [
    "# 2. Define Images to Collect"
   ]
  },
  {
   "cell_type": "code",
   "execution_count": 2,
   "metadata": {},
   "outputs": [],
   "source": [
    "labels = ['thumbsup', 'thumbsdown', 'thankyou', 'livelong']\n",
    "number_imgs = 5"
   ]
  },
  {
   "cell_type": "markdown",
   "metadata": {},
   "source": [
    "# 3. Setup Folders "
   ]
  },
  {
   "cell_type": "code",
   "execution_count": 3,
   "metadata": {},
   "outputs": [],
   "source": [
    "IMAGES_PATH = os.path.join('Tensorflow', 'workspace', 'images', 'collectedimages')"
   ]
  },
  {
   "cell_type": "code",
   "execution_count": 4,
   "metadata": {},
   "outputs": [],
   "source": [
    "if not os.path.exists(IMAGES_PATH):\n",
    "    if os.name == 'posix':\n",
    "        !mkdir -p {IMAGES_PATH}\n",
    "    if os.name == 'nt':\n",
    "         !mkdir {IMAGES_PATH}\n",
    "for label in labels:\n",
    "    path = os.path.join(IMAGES_PATH, label)\n",
    "    if not os.path.exists(path):\n",
    "        !mkdir {path}"
   ]
  },
  {
   "cell_type": "markdown",
   "metadata": {},
   "source": [
    "# 4. Capture Images"
   ]
  },
  {
   "cell_type": "code",
   "execution_count": 5,
   "metadata": {},
   "outputs": [
    {
     "name": "stdout",
     "output_type": "stream",
     "text": [
      "Collecting images for thumbsup\n",
      "Collecting image 0\n",
      "Collecting image 1\n",
      "Collecting image 2\n",
      "Collecting image 3\n",
      "Collecting image 4\n",
      "Collecting images for thumbsdown\n",
      "Collecting image 0\n",
      "Collecting image 1\n",
      "Collecting image 2\n",
      "Collecting image 3\n",
      "Collecting image 4\n",
      "Collecting images for thankyou\n",
      "Collecting image 0\n",
      "Collecting image 1\n",
      "Collecting image 2\n",
      "Collecting image 3\n",
      "Collecting image 4\n",
      "Collecting images for livelong\n",
      "Collecting image 0\n",
      "Collecting image 1\n",
      "Collecting image 2\n",
      "Collecting image 3\n",
      "Collecting image 4\n"
     ]
    }
   ],
   "source": [
    "for label in labels:\n",
    "    cap = cv2.VideoCapture(0)\n",
    "    print('Collecting images for {}'.format(label))\n",
    "    time.sleep(5)\n",
    "    for imgnum in range(number_imgs):\n",
    "        print('Collecting image {}'.format(imgnum))\n",
    "        ret, frame = cap.read()\n",
    "        imgname = os.path.join(IMAGES_PATH,label,label+'.'+'{}.jpg'.format(str(uuid.uuid1())))\n",
    "        cv2.imwrite(imgname, frame)\n",
    "        cv2.imshow('frame', frame)\n",
    "        time.sleep(2)\n",
    "\n",
    "        if cv2.waitKey(1) & 0xFF == ord('q'):\n",
    "            break\n",
    "cap.release()\n",
    "cv2.destroyAllWindows()"
   ]
  },
  {
   "cell_type": "markdown",
   "metadata": {},
   "source": [
    "# 5. Image Labelling"
   ]
  },
  {
   "cell_type": "code",
   "execution_count": 6,
   "metadata": {},
   "outputs": [
    {
     "name": "stdout",
     "output_type": "stream",
     "text": [
      "Collecting pyqt5\n",
      "  Downloading PyQt5-5.15.7-cp37-abi3-win_amd64.whl (6.8 MB)\n",
      "Collecting lxml\n",
      "  Downloading lxml-4.9.1-cp39-cp39-win_amd64.whl (3.6 MB)\n",
      "Collecting PyQt5-sip<13,>=12.11\n",
      "  Downloading PyQt5_sip-12.11.0-cp39-cp39-win_amd64.whl (78 kB)\n",
      "Collecting PyQt5-Qt5>=5.15.0\n",
      "  Downloading PyQt5_Qt5-5.15.2-py3-none-win_amd64.whl (50.1 MB)\n",
      "Installing collected packages: PyQt5-sip, PyQt5-Qt5, pyqt5, lxml\n",
      "Successfully installed PyQt5-Qt5-5.15.2 PyQt5-sip-12.11.0 lxml-4.9.1 pyqt5-5.15.7\n"
     ]
    },
    {
     "name": "stderr",
     "output_type": "stream",
     "text": [
      "WARNING: You are using pip version 21.2.4; however, version 22.3 is available.\n",
      "You should consider upgrading via the 'C:\\Users\\divya\\AppData\\Local\\Programs\\Python\\Python39\\python.exe -m pip install --upgrade pip' command.\n"
     ]
    }
   ],
   "source": [
    "!pip install --upgrade pyqt5 lxml"
   ]
  },
  {
   "cell_type": "code",
   "execution_count": 3,
   "metadata": {},
   "outputs": [],
   "source": [
    "LABELIMG_PATH = os.path.join('Tensorflow', 'labelimg')"
   ]
  },
  {
   "cell_type": "code",
   "execution_count": 4,
   "metadata": {},
   "outputs": [
    {
     "name": "stderr",
     "output_type": "stream",
     "text": [
      "Cloning into 'Tensorflow\\labelimg'...\n"
     ]
    }
   ],
   "source": [
    "if not os.path.exists(LABELIMG_PATH):\n",
    "    !mkdir {LABELIMG_PATH}\n",
    "    !git clone https://github.com/tzutalin/labelImg {LABELIMG_PATH}"
   ]
  },
  {
   "cell_type": "code",
   "execution_count": 5,
   "metadata": {},
   "outputs": [],
   "source": [
    "if os.name == 'posix':\n",
    "    !make qt5py3\n",
    "if os.name =='nt':\n",
    "    !cd {LABELIMG_PATH} && pyrcc5 -o libs/resources.py resources.qrc"
   ]
  },
  {
   "cell_type": "code",
   "execution_count": 6,
   "metadata": {},
   "outputs": [
    {
     "name": "stdout",
     "output_type": "stream",
     "text": [
      "Image:E:\\Python\\Object Detection using TFOD\\TFODCourse\\Tensorflow\\workspace\\images\\collectedimages\\livelong\\livelong.5a788b30-501f-11ed-92a3-cc6b1e0b221f.jpg -> Annotation:E:/Python/Object Detection using TFOD/TFODCourse/Tensorflow/workspace/images/collectedimages/livelong\\livelong.5a788b30-501f-11ed-92a3-cc6b1e0b221f.xml\n",
      "Image:E:\\Python\\Object Detection using TFOD\\TFODCourse\\Tensorflow\\workspace\\images\\collectedimages\\livelong\\livelong.5944de13-501f-11ed-af7f-cc6b1e0b221f.jpg -> Annotation:E:/Python/Object Detection using TFOD/TFODCourse/Tensorflow/workspace/images/collectedimages/livelong\\livelong.5944de13-501f-11ed-af7f-cc6b1e0b221f.xml\n",
      "Image:E:\\Python\\Object Detection using TFOD\\TFODCourse\\Tensorflow\\workspace\\images\\collectedimages\\livelong\\livelong.55a64710-501f-11ed-a877-cc6b1e0b221f.jpg -> Annotation:E:/Python/Object Detection using TFOD/TFODCourse/Tensorflow/workspace/images/collectedimages/livelong\\livelong.55a64710-501f-11ed-a877-cc6b1e0b221f.xml\n",
      "Image:E:\\Python\\Object Detection using TFOD\\TFODCourse\\Tensorflow\\workspace\\images\\collectedimages\\livelong\\livelong.56dc29ce-501f-11ed-9933-cc6b1e0b221f.jpg -> Annotation:E:/Python/Object Detection using TFOD/TFODCourse/Tensorflow/workspace/images/collectedimages/livelong\\livelong.56dc29ce-501f-11ed-9933-cc6b1e0b221f.xml\n",
      "Image:E:\\Python\\Object Detection using TFOD\\TFODCourse\\Tensorflow\\workspace\\images\\collectedimages\\livelong\\livelong.5810c92b-501f-11ed-8314-cc6b1e0b221f.jpg -> Annotation:E:/Python/Object Detection using TFOD/TFODCourse/Tensorflow/workspace/images/collectedimages/livelong\\livelong.5810c92b-501f-11ed-8314-cc6b1e0b221f.xml\n",
      "Image:E:\\Python\\Object Detection using TFOD\\TFODCourse\\Tensorflow\\workspace\\images\\collectedimages\\thankyou\\thankyou.4a52d9bf-501f-11ed-adc5-cc6b1e0b221f.jpg -> Annotation:E:/Python/Object Detection using TFOD/TFODCourse/Tensorflow/workspace/images/collectedimages/thankyou\\thankyou.4a52d9bf-501f-11ed-adc5-cc6b1e0b221f.xml\n",
      "Image:E:\\Python\\Object Detection using TFOD\\TFODCourse\\Tensorflow\\workspace\\images\\collectedimages\\thankyou\\thankyou.4b86d68d-501f-11ed-b95f-cc6b1e0b221f.jpg -> Annotation:E:/Python/Object Detection using TFOD/TFODCourse/Tensorflow/workspace/images/collectedimages/thankyou\\thankyou.4b86d68d-501f-11ed-b95f-cc6b1e0b221f.xml\n",
      "Image:E:\\Python\\Object Detection using TFOD\\TFODCourse\\Tensorflow\\workspace\\images\\collectedimages\\thankyou\\thankyou.4ccc2bbe-501f-11ed-8257-cc6b1e0b221f.jpg -> Annotation:E:/Python/Object Detection using TFOD/TFODCourse/Tensorflow/workspace/images/collectedimages/thankyou\\thankyou.4ccc2bbe-501f-11ed-8257-cc6b1e0b221f.xml\n",
      "Image:E:\\Python\\Object Detection using TFOD\\TFODCourse\\Tensorflow\\workspace\\images\\collectedimages\\thankyou\\thankyou.4dff7129-501f-11ed-a632-cc6b1e0b221f.jpg -> Annotation:E:/Python/Object Detection using TFOD/TFODCourse/Tensorflow/workspace/images/collectedimages/thankyou\\thankyou.4dff7129-501f-11ed-a632-cc6b1e0b221f.xml\n",
      "Image:E:\\Python\\Object Detection using TFOD\\TFODCourse\\Tensorflow\\workspace\\images\\collectedimages\\thankyou\\thankyou.4f346c3e-501f-11ed-88b6-cc6b1e0b221f.jpg -> Annotation:E:/Python/Object Detection using TFOD/TFODCourse/Tensorflow/workspace/images/collectedimages/thankyou\\thankyou.4f346c3e-501f-11ed-88b6-cc6b1e0b221f.xml\n",
      "Image:E:\\Python\\Object Detection using TFOD\\TFODCourse\\Tensorflow\\workspace\\images\\collectedimages\\thumbsdown\\thumbsdown.3f270869-501f-11ed-b57d-cc6b1e0b221f.jpg -> Annotation:E:/Python/Object Detection using TFOD/TFODCourse/Tensorflow/workspace/images/collectedimages/thumbsdown\\thumbsdown.3f270869-501f-11ed-b57d-cc6b1e0b221f.xml\n",
      "Image:E:\\Python\\Object Detection using TFOD\\TFODCourse\\Tensorflow\\workspace\\images\\collectedimages\\thumbsdown\\thumbsdown.418f5c41-501f-11ed-bab8-cc6b1e0b221f.jpg -> Annotation:E:/Python/Object Detection using TFOD/TFODCourse/Tensorflow/workspace/images/collectedimages/thumbsdown\\thumbsdown.418f5c41-501f-11ed-bab8-cc6b1e0b221f.xml\n",
      "Image:E:\\Python\\Object Detection using TFOD\\TFODCourse\\Tensorflow\\workspace\\images\\collectedimages\\thumbsdown\\thumbsdown.405adc07-501f-11ed-9afb-cc6b1e0b221f.jpg -> Annotation:E:/Python/Object Detection using TFOD/TFODCourse/Tensorflow/workspace/images/collectedimages/thumbsdown\\thumbsdown.405adc07-501f-11ed-9afb-cc6b1e0b221f.xml\n",
      "Image:E:\\Python\\Object Detection using TFOD\\TFODCourse\\Tensorflow\\workspace\\images\\collectedimages\\thumbsdown\\thumbsdown.43f76b30-501f-11ed-af97-cc6b1e0b221f.jpg -> Annotation:E:/Python/Object Detection using TFOD/TFODCourse/Tensorflow/workspace/images/collectedimages/thumbsdown\\thumbsdown.43f76b30-501f-11ed-af97-cc6b1e0b221f.xml\n",
      "Image:E:\\Python\\Object Detection using TFOD\\TFODCourse\\Tensorflow\\workspace\\images\\collectedimages\\thumbsdown\\thumbsdown.42c26f59-501f-11ed-8e39-cc6b1e0b221f.jpg -> Annotation:E:/Python/Object Detection using TFOD/TFODCourse/Tensorflow/workspace/images/collectedimages/thumbsdown\\thumbsdown.42c26f59-501f-11ed-8e39-cc6b1e0b221f.xml\n",
      "Image:E:\\Python\\Object Detection using TFOD\\TFODCourse\\Tensorflow\\workspace\\images\\collectedimages\\thumbsup\\thumbsup.38c97290-501f-11ed-b8dc-cc6b1e0b221f.jpg -> Annotation:E:/Python/Object Detection using TFOD/TFODCourse/Tensorflow/workspace/images/collectedimages/thumbsup\\thumbsup.38c97290-501f-11ed-b8dc-cc6b1e0b221f.xml\n",
      "Image:E:\\Python\\Object Detection using TFOD\\TFODCourse\\Tensorflow\\workspace\\images\\collectedimages\\thumbsup\\thumbsup.379607a3-501f-11ed-b254-cc6b1e0b221f.jpg -> Annotation:E:/Python/Object Detection using TFOD/TFODCourse/Tensorflow/workspace/images/collectedimages/thumbsup\\thumbsup.379607a3-501f-11ed-b254-cc6b1e0b221f.xml\n",
      "Image:E:\\Python\\Object Detection using TFOD\\TFODCourse\\Tensorflow\\workspace\\images\\collectedimages\\thumbsup\\WIN_20221026_08_24_16_Pro.jpg -> Annotation:E:/Python/Object Detection using TFOD/TFODCourse/Tensorflow/workspace/images/collectedimages/thumbsup\\WIN_20221026_08_24_16_Pro.xml\n",
      "Image:E:\\Python\\Object Detection using TFOD\\TFODCourse\\Tensorflow\\workspace\\images\\collectedimages\\thumbsup\\WIN_20221026_08_24_19_Pro.jpg -> Annotation:E:/Python/Object Detection using TFOD/TFODCourse/Tensorflow/workspace/images/collectedimages/thumbsup\\WIN_20221026_08_24_19_Pro.xml\n",
      "Image:E:\\Python\\Object Detection using TFOD\\TFODCourse\\Tensorflow\\workspace\\images\\collectedimages\\thumbsup\\WIN_20221020_08_03_59_Pro.jpg -> Annotation:E:/Python/Object Detection using TFOD/TFODCourse/Tensorflow/workspace/images/collectedimages/thumbsup\\WIN_20221020_08_03_59_Pro.xml\n"
     ]
    }
   ],
   "source": [
    "!cd {LABELIMG_PATH} && python labelImg.py"
   ]
  },
  {
   "cell_type": "markdown",
   "metadata": {},
   "source": [
    "# 6. Move them into a Training and Testing Partition"
   ]
  },
  {
   "cell_type": "markdown",
   "metadata": {},
   "source": [
    "# OPTIONAL - 7. Compress them for Colab Training"
   ]
  },
  {
   "cell_type": "code",
   "execution_count": 8,
   "metadata": {},
   "outputs": [],
   "source": [
    "TRAIN_PATH = os.path.join('Tensorflow', 'workspace', 'images', 'train')\n",
    "TEST_PATH = os.path.join('Tensorflow', 'workspace', 'images', 'test')\n",
    "ARCHIVE_PATH = os.path.join('Tensorflow', 'workspace', 'images', 'archive.tar.gz')"
   ]
  },
  {
   "cell_type": "code",
   "execution_count": 21,
   "metadata": {},
   "outputs": [],
   "source": [
    "!tar -czf {ARCHIVE_PATH} {TRAIN_PATH} {TEST_PATH}"
   ]
  },
  {
   "cell_type": "code",
   "execution_count": null,
   "metadata": {},
   "outputs": [],
   "source": []
  }
 ],
 "metadata": {
  "kernelspec": {
   "display_name": "Python 3.9.8 64-bit",
   "language": "python",
   "name": "python3"
  },
  "language_info": {
   "codemirror_mode": {
    "name": "ipython",
    "version": 3
   },
   "file_extension": ".py",
   "mimetype": "text/x-python",
   "name": "python",
   "nbconvert_exporter": "python",
   "pygments_lexer": "ipython3",
   "version": "3.9.8"
  },
  "vscode": {
   "interpreter": {
    "hash": "1a647852a5af53831007c2d01c12e3e8e8061e139bd247a0ea5121ac86dbd369"
   }
  }
 },
 "nbformat": 4,
 "nbformat_minor": 2
}
